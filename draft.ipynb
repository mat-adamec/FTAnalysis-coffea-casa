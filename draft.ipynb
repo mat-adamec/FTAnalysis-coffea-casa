{
 "cells": [
  {
   "cell_type": "code",
   "execution_count": 43,
   "metadata": {},
   "outputs": [],
   "source": [
    "import numpy as np\n",
    "import uproot\n",
    "%matplotlib inline\n",
    "from coffea import hist\n",
    "#from coffea.analysis_objects import JaggedCandidateArray\n",
    "import coffea.processor as processor\n",
    "#from coffea.nanoaod import NanoEvents\n",
    "from coffea.nanoevents import NanoEventsFactory, NanoAODSchema\n",
    "import awkward as ak\n",
    "import numpy as np"
   ]
  },
  {
   "cell_type": "code",
   "execution_count": 7,
   "metadata": {},
   "outputs": [],
   "source": [
    "ev = NanoEventsFactory.from_root(s, schemaclass=NanoAODSchema).events()"
   ]
  },
  {
   "cell_type": "code",
   "execution_count": 36,
   "metadata": {},
   "outputs": [
    {
     "data": {
      "text/plain": [
       "['TkMET',\n",
       " 'GenJet',\n",
       " 'IsoTrack',\n",
       " 'GenDressedLepton',\n",
       " 'genWeight',\n",
       " 'PuppiMET',\n",
       " 'SoftActivityJetHT10',\n",
       " 'SoftActivityJetNjets10',\n",
       " 'HTXS',\n",
       " 'MET',\n",
       " 'event',\n",
       " 'Photon',\n",
       " 'HLT',\n",
       " 'RawMET',\n",
       " 'SoftActivityJetHT5',\n",
       " 'genTtbarId',\n",
       " 'fixedGridRhoFastjetCentralCalo',\n",
       " 'fixedGridRhoFastjetCentral',\n",
       " 'PSWeight',\n",
       " 'L1simulation',\n",
       " 'TrigObj',\n",
       " 'fixedGridRhoFastjetCentralNeutral',\n",
       " 'FsrPhoton',\n",
       " 'SV',\n",
       " 'GenJetAK8',\n",
       " 'GenVisTau',\n",
       " 'fixedGridRhoFastjetAll',\n",
       " 'FatJet',\n",
       " 'L1',\n",
       " 'OtherPV',\n",
       " 'Electron',\n",
       " 'fixedGridRhoFastjetCentralChargedPileUp',\n",
       " 'Generator',\n",
       " 'Tau',\n",
       " 'Pileup',\n",
       " 'Jet',\n",
       " 'L1PreFiringWeight',\n",
       " 'run',\n",
       " 'btagWeight',\n",
       " 'HLTriggerFirstPath',\n",
       " 'PV',\n",
       " 'SoftActivityJet',\n",
       " 'SoftActivityJetNjets2',\n",
       " 'SoftActivityJetHT',\n",
       " 'RawPuppiMET',\n",
       " 'ChsMET',\n",
       " 'GenMET',\n",
       " 'SubJet',\n",
       " 'SubGenJetAK8',\n",
       " 'HLTriggerFinalPath',\n",
       " 'SoftActivityJetHT2',\n",
       " 'luminosityBlock',\n",
       " 'Muon',\n",
       " 'SoftActivityJetNjets5',\n",
       " 'Flag',\n",
       " 'CaloMET',\n",
       " 'CorrT1METJet',\n",
       " 'GenIsolatedPhoton',\n",
       " 'GenPart']"
      ]
     },
     "execution_count": 36,
     "metadata": {},
     "output_type": "execute_result"
    }
   ],
   "source": [
    "ev.fields"
   ]
  },
  {
   "cell_type": "code",
   "execution_count": 41,
   "metadata": {},
   "outputs": [
    {
     "data": {
      "text/plain": [
       "['area',\n",
       " 'btagCMVA',\n",
       " 'btagCSVV2',\n",
       " 'btagDeepB',\n",
       " 'btagDeepC',\n",
       " 'btagDeepFlavB',\n",
       " 'btagDeepFlavC',\n",
       " 'chEmEF',\n",
       " 'chFPV0EF',\n",
       " 'chFPV1EF',\n",
       " 'chFPV2EF',\n",
       " 'chFPV3EF',\n",
       " 'chHEF',\n",
       " 'eta',\n",
       " 'mass',\n",
       " 'muEF',\n",
       " 'muonSubtrFactor',\n",
       " 'neEmEF',\n",
       " 'neHEF',\n",
       " 'phi',\n",
       " 'pt',\n",
       " 'puIdDisc',\n",
       " 'qgl',\n",
       " 'rawFactor',\n",
       " 'bRegCorr',\n",
       " 'bRegRes',\n",
       " 'cRegCorr',\n",
       " 'cRegRes',\n",
       " 'electronIdx1',\n",
       " 'electronIdx2',\n",
       " 'jetId',\n",
       " 'muonIdx1',\n",
       " 'muonIdx2',\n",
       " 'nConstituents',\n",
       " 'nElectrons',\n",
       " 'nMuons',\n",
       " 'puId',\n",
       " 'genJetIdx',\n",
       " 'hadronFlavour',\n",
       " 'partonFlavour',\n",
       " 'cleanmask',\n",
       " 'electronIdx1G',\n",
       " 'electronIdx2G',\n",
       " 'muonIdx1G',\n",
       " 'muonIdx2G',\n",
       " 'genJetIdxG',\n",
       " 'muonIdxG',\n",
       " 'electronIdxG']"
      ]
     },
     "execution_count": 41,
     "metadata": {},
     "output_type": "execute_result"
    }
   ],
   "source": [
    "ev.Jet.fields"
   ]
  },
  {
   "cell_type": "code",
   "execution_count": 2,
   "metadata": {},
   "outputs": [],
   "source": [
    "# To change\n",
    "fileset = {'tHq': ['root://xcache//store/mc/RunIISummer16NanoAODv5/THQ_Hincl_13TeV-madgraph-pythia8_TuneCUETP8M1/NANOAODSIM/PUMoriond17_Nano1June2019_102X_mcRun2_asymptotic_v7-v1/100000/38E83594-51BD-7D46-B96D-620DD60078A7.root',\n",
    "                    'root://xcache//store/mc/RunIISummer16NanoAODv5/THQ_Hincl_13TeV-madgraph-pythia8_TuneCUETP8M1/NANOAODSIM/PUMoriond17_Nano1June2019_102X_mcRun2_asymptotic_v7-v1/100000/3A3BA22C-AA71-2544-810A-6DF4C6BA96FC.root',\n",
    "                    'root://xcache//store/mc/RunIISummer16NanoAODv5/THQ_Hincl_13TeV-madgraph-pythia8_TuneCUETP8M1/NANOAODSIM/PUMoriond17_Nano1June2019_102X_mcRun2_asymptotic_v7-v1/100000/3AFB1F42-BC6D-D44E-86FD-DB93C83F88FF.root',\n",
    "                    'root://xcache//store/mc/RunIISummer16NanoAODv5/THQ_Hincl_13TeV-madgraph-pythia8_TuneCUETP8M1/NANOAODSIM/PUMoriond17_Nano1June2019_102X_mcRun2_asymptotic_v7-v1/100000/A37B4B7A-FB5B-484D-8577-40B860D77D23.root',\n",
    "                    'root://xcache//store/mc/RunIISummer16NanoAODv5/THQ_Hincl_13TeV-madgraph-pythia8_TuneCUETP8M1/NANOAODSIM/PUMoriond17_Nano1June2019_102X_mcRun2_asymptotic_v7-v1/100000/E3C7548E-EE40-BA45-9130-17DF56FBE537.root',\n",
    "                    'root://xcache//store/mc/RunIISummer16NanoAODv5/THQ_Hincl_13TeV-madgraph-pythia8_TuneCUETP8M1/NANOAODSIM/PUMoriond17_Nano1June2019_102X_mcRun2_asymptotic_v7-v1/100000/F9EFC559-09E9-BB48-8150-9AA8B7F02C1C.root'],\n",
    "            'tHW': ['root://xcache//store/mc/RunIISummer16NanoAODv5/THW_Hincl_13TeV-madgraph-pythia8_TuneCUETP8M1/NANOAODSIM/PUMoriond17_Nano1June2019_102X_mcRun2_asymptotic_v7-v1/70000/2806293E-D1DD-4A49-A274-0CC3BA57BBDF.root',\n",
    "                    'root://xcache//store/mc/RunIISummer16NanoAODv5/THW_Hincl_13TeV-madgraph-pythia8_TuneCUETP8M1/NANOAODSIM/PUMoriond17_Nano1June2019_102X_mcRun2_asymptotic_v7-v1/70000/2F19962E-1DFB-A14A-91C2-30B69D5651D3.root',\n",
    "                    'root://xcache//store/mc/RunIISummer16NanoAODv5/THW_Hincl_13TeV-madgraph-pythia8_TuneCUETP8M1/NANOAODSIM/PUMoriond17_Nano1June2019_102X_mcRun2_asymptotic_v7-v1/70000/D9744111-ED04-3F47-A52A-C18424F01609.root',\n",
    "                    'root://xcache//store/mc/RunIISummer16NanoAODv5/THW_Hincl_13TeV-madgraph-pythia8_TuneCUETP8M1/NANOAODSIM/PUMoriond17_Nano1June2019_102X_mcRun2_asymptotic_v7-v1/70000/E4CFA095-E7DB-B449-986D-1A5D21FD1D50.root']}"
   ]
  },
  {
   "cell_type": "code",
   "execution_count": 6,
   "metadata": {},
   "outputs": [],
   "source": [
    "s = \"root://xcache//store/mc/RunIISummer16NanoAODv7/QCD_Pt-20to30_MuEnrichedPt5_TuneCUETP8M1_13TeV_pythia8/NANOAODSIM/PUMoriond17_Nano02Apr2020_102X_mcRun2_asymptotic_v8-v1/60000/30AED9F5-92AD-DD46-A547-61765FD6B596.root\""
   ]
  },
  {
   "cell_type": "code",
   "execution_count": 3,
   "metadata": {},
   "outputs": [],
   "source": [
    "# the desired sample file seems to be causing issue, using a tutorial file here for comparison\n",
    "s2 = 'root://xcache//store/mc/RunIISummer16NanoAODv5/THQ_Hincl_13TeV-madgraph-pythia8_TuneCUETP8M1/NANOAODSIM/PUMoriond17_Nano1June2019_102X_mcRun2_asymptotic_v7-v1/100000/38E83594-51BD-7D46-B96D-620DD60078A7.root'"
   ]
  },
  {
   "cell_type": "code",
   "execution_count": 4,
   "metadata": {},
   "outputs": [
    {
     "name": "stderr",
     "output_type": "stream",
     "text": [
      "/opt/conda/lib/python3.8/site-packages/coffea/util.py:98: Awkward0Warning: In coffea version 0.7 (target date: January 2021), this will be an error.\n",
      "(Set awkward1.deprecations_as_errors = True to get a stack trace now.)\n",
      "TypeError: <class 'coffea.nanoaod.nanoevents.NanoEvents'> relies exclusively on awkward 0.x and will be removed in upcoming versions of coffea!\n",
      "  warnings.warn(message, Awkward0Warning)\n",
      "/opt/conda/lib/python3.8/site-packages/coffea/util.py:98: Awkward0Warning: In coffea version 0.7 (target date: January 2021), this will be an error.\n",
      "(Set awkward1.deprecations_as_errors = True to get a stack trace now.)\n",
      "TypeError: <class 'coffea.nanoaod.nanoevents.NanoCollection'> relies exclusively on awkward 0.x and will be removed in upcoming versions of coffea!\n",
      "  warnings.warn(message, Awkward0Warning)\n"
     ]
    }
   ],
   "source": [
    "events = NanoEvents.from_file(s)"
   ]
  },
  {
   "cell_type": "code",
   "execution_count": 39,
   "metadata": {},
   "outputs": [
    {
     "data": {
      "text/plain": [
       "<MuonArray [[<Muon 0>] [<Muon 1>] [<Muon 2>] ... [<Muon 1489643>] [<Muon 1489644>] []] at 0x7f50483bba60>"
      ]
     },
     "execution_count": 39,
     "metadata": {},
     "output_type": "execute_result"
    }
   ],
   "source": [
    "events.Muon"
   ]
  },
  {
   "cell_type": "code",
   "execution_count": 40,
   "metadata": {},
   "outputs": [
    {
     "data": {
      "text/plain": [
       "<MuonArray [[] [] [] ... [<Muon 1489643>] [<Muon 1489644>] []] at 0x7f5044619400>"
      ]
     },
     "execution_count": 40,
     "metadata": {},
     "output_type": "execute_result"
    }
   ],
   "source": [
    "events.Muon[( events.Muon.pt >10 )]"
   ]
  },
  {
   "cell_type": "code",
   "execution_count": null,
   "metadata": {},
   "outputs": [],
   "source": []
  },
  {
   "cell_type": "code",
   "execution_count": 96,
   "metadata": {},
   "outputs": [],
   "source": [
    "class Processor(processor.ProcessorABC):\n",
    "    def __init__(self):\n",
    "        dataset_axis = hist.Cat(\"dataset\", \"\")\n",
    "        # Split data into 50 bins, ranging from 0 to 100.\n",
    "        Muon_axis = hist.Bin(\"Muon\", \"Muon [GeV]\", 50, 0, 100)\n",
    "        Electron_axis = hist.Bin(\"Electron\", \"Electron [GeV]\", 50, 0, 100)\n",
    "        Loose_muon_axis = hist.Bin(\"Electron\", \"Electron [GeV]\", 50, 0, 100)\n",
    "        Test_axis = hist.Bin(\"Test\", \"Test [GeV]\", 50, 0, 100)\n",
    "        \n",
    "        self._accumulator = processor.dict_accumulator({\n",
    "            'Muon': hist.Hist(\"Counts\", dataset_axis, Muon_axis),\n",
    "            'Electron': hist.Hist(\"Counts\", dataset_axis, Electron_axis),\n",
    "            'Test': hist.Hist(\"Counts\", dataset_axis, Test_axis)\n",
    "            #'nMuon': processor.defaultdict_accumulator(int)\n",
    "        })\n",
    "    \n",
    "    @property\n",
    "    def accumulator(self):\n",
    "        \n",
    "        return self._accumulator\n",
    "    \n",
    "    def process(self, events):\n",
    "        output = self.accumulator.identity()\n",
    "        \n",
    "        dataset = events.metadata[\"dataset\"]\n",
    "        \n",
    "        # Skim Muon, Electron, and Jet\n",
    "        Muon = events.Muon\n",
    "        Muon = Muon[( Muon.pt >10 ) &\n",
    "                           (np.abs(Muon.eta) < 2.4) &\n",
    "                           (np.abs(Muon.dxy) < 0.05) &\n",
    "                           (np.abs(Muon.dz) < 0.1) &\n",
    "                           (np.abs(Muon.sip3d) < 4) &\n",
    "                           (Muon.looseId==1) &\n",
    "                           (Muon.ptErr/Muon.pt < 0.2) &\n",
    "                           (Muon.mediumId==1) ]\n",
    "        \n",
    "        Electron = events.Electron\n",
    "        Electron = Electron[( Electron.pt >10 ) &  #  (Electron.isTriggerSafeNolso) \n",
    "                           (np.abs(Electron.eta+Electron.deltaEtaSC ) < 2.4) &\n",
    "                            (Electron.convVeto)&\n",
    "                            (Electron.lostHits==0) &\n",
    "                            (Electron.tightCharge==2) &\n",
    "                            (np.abs(Electron.dz) < 0.1) &\n",
    "                           (np.abs(Electron.dxy) < 0.05) &\n",
    "                           (np.abs(Electron.sip3d) < 4) ]\n",
    "        Jet = events.Jet\n",
    "        Jet = Jet[( Jet.pt >25 ) &  (np.abs(Jet.eta ) < 2.4) ]\n",
    "\n",
    "        \n",
    "        def delta_phi(first, second):\n",
    "            return np.arccos(np.cos(first.phi - second.phi))\n",
    "\n",
    "        def delta_r2(first, second):\n",
    "            return (first.eta - second.eta) ** 2 + delta_phi(first, second) ** 2\n",
    "\n",
    "        def match(first, second, deltaRCut=0.4):\n",
    "            drCut2 = deltaRCut**2\n",
    "            combs = ak.cartesian([first, second], nested=True)\n",
    "            return ak.any((delta_r2(combs['0'], combs['1'])<drCut2), axis=2)    \n",
    "        \n",
    "        def mt(pt1, phi1, pt2, phi2):    #transverse mass\n",
    "            return np.sqrt( 2*pt1*pt2 * (1 - np.cos(phi1-phi2)) )\n",
    "        \n",
    "        # Definition of Tight/Loose Muon and Electron\n",
    "        Tight_Muon = Muon[( Muon.pt >20 ) &\n",
    "                          (np.abs(Muon.eta) < 2.4) &\n",
    "                         (Muon.tightId==1) &\n",
    "                          (Muon.miniPFRelIso_all<0.16)\n",
    "                         ]\n",
    "        Tight_Electron = Electron[( Electron.pt >20 )&\n",
    "                          (np.abs(Electron.eta) < 2.4) &\n",
    "                       #  (Electron.tightId==1) &\n",
    "                          (Electron.miniPFRelIso_all<0.12)\n",
    "                         ]\n",
    "        \n",
    "        Loose_Muon = Muon[( Muon.pt >20 )&\n",
    "                          (np.abs(Muon.eta) < 2.4) &\n",
    "                         (Muon.looseId==1) &\n",
    "                          (Muon.miniPFRelIso_all<0.4)\n",
    "                         ]        \n",
    "        \n",
    "        Loose_Electron = Electron[( Electron.pt >20 )&\n",
    "                          (np.abs(Electron.eta) < 2.4) &\n",
    "                        # (Electron.looseId==1) &\n",
    "                          (Electron.miniPFRelIso_all<0.4)\n",
    "                         ]\n",
    "        MET = events.MET   \n",
    "        \n",
    "        \n",
    "        control_region_Muon = events[ak.num(Loose_Muon)==1 & ak.num(Loose_Electron)==0 ]#& (ak.num(Jet[~match(Jet, Muon, deltaRCut=1.0)])>=1)& MET.pt<20 ]#& mt(Muon.pt,Muon.phi, MET.pt, MET.phi)<20 ]\n",
    "        #control_region_Electron = events[ak.num(Loose_Electron)==1 & ak.num(Loose_Muon+ Loose_Electron)==1 & (ak.num(Jet[~match(Jet, Electron, deltaRCut=1.0)])>=1)&MET.pt<20&mt(Electron.pt,Electron.phi, MET.pt, MET.phi)<20]\n",
    "        # MET ; mt\n",
    "        \n",
    "        #from SS AN: MET < 20 & mT < 20\n",
    "        \n",
    "        #ev.MET.pt\n",
    "        \n",
    "        \n",
    "        #binning number of muons/loose and muons/tight based on eta and pt\n",
    "        #same for electron\n",
    "        #divide \n",
    "        #plot it \n",
    "        #tight/loose -> frac\n",
    "        \n",
    "        \n",
    "        \n",
    "        \n",
    "        output['Muon'].fill(dataset=dataset, Muon=ak.flatten(Muon.pt))\n",
    "        output['Electron'].fill(dataset=dataset, Electron=ak.flatten(Electron.pt))\n",
    "        #output['Muon'].fill(dataset=dataset, Muon=ak.flatten(Muon.pt))\n",
    "        output['Test'].fill(dataset=dataset, Test=ak.flatten(control_region_Muon.Muon.pt))\n",
    "\n",
    "   \n",
    "        return output\n",
    "        #counts number and the ratio\n",
    "\n",
    "    def postprocess(self, accumulator):\n",
    "        return accumulator"
   ]
  },
  {
   "cell_type": "code",
   "execution_count": 69,
   "metadata": {},
   "outputs": [],
   "source": [
    "Jet = ev.Jet\n",
    "Muon = ev.Muon\n",
    "def delta_phi(first, second):\n",
    "    return np.arccos(np.cos(first.phi - second.phi))\n",
    "\n",
    "def delta_r2(first, second):\n",
    "    return (first.eta - second.eta) ** 2 + delta_phi(first, second) ** 2\n",
    "\n",
    "def match(first, second, deltaRCut=0.4):\n",
    "    drCut2 = deltaRCut**2\n",
    "    combs = ak.cartesian([first, second], nested=True)\n",
    "    return ak.any((delta_r2(combs['0'], combs['1'])<drCut2), axis=2)    \n",
    "a = Jet[~match(Jet, Muon, deltaRCut=1.0)]\n",
    "\n",
    "def mt(pt1, phi1, pt2, phi2):\n",
    "    return np.sqrt( 2*pt1*pt2 * (1 - np.cos(phi1-phi2)) )"
   ]
  },
  {
   "cell_type": "code",
   "execution_count": 84,
   "metadata": {},
   "outputs": [],
   "source": [
    "Loose_Muon = Muon[( Muon.pt >20 )&\n",
    "                          (np.abs(Muon.eta) < 2.4) &\n",
    "                         (Muon.looseId==1) &\n",
    "                          (Muon.miniPFRelIso_all<0.4)\n",
    "                         ]      "
   ]
  },
  {
   "cell_type": "code",
   "execution_count": 102,
   "metadata": {},
   "outputs": [],
   "source": [
    "a = ak.num(a)>=1"
   ]
  },
  {
   "cell_type": "code",
   "execution_count": 98,
   "metadata": {},
   "outputs": [],
   "source": [
    "b = ak.num(Loose_Muon)==1"
   ]
  },
  {
   "cell_type": "code",
   "execution_count": 103,
   "metadata": {},
   "outputs": [
    {
     "data": {
      "text/plain": [
       "awkward.highlevel.Array"
      ]
     },
     "execution_count": 103,
     "metadata": {},
     "output_type": "execute_result"
    }
   ],
   "source": [
    "type(a)"
   ]
  },
  {
   "cell_type": "code",
   "execution_count": 104,
   "metadata": {},
   "outputs": [
    {
     "data": {
      "text/plain": [
       "awkward.highlevel.Array"
      ]
     },
     "execution_count": 104,
     "metadata": {},
     "output_type": "execute_result"
    }
   ],
   "source": [
    "type(b)"
   ]
  },
  {
   "cell_type": "code",
   "execution_count": 107,
   "metadata": {},
   "outputs": [],
   "source": [
    "c = ak.num(Loose_Muon)==2"
   ]
  },
  {
   "cell_type": "code",
   "execution_count": 108,
   "metadata": {},
   "outputs": [
    {
     "ename": "TypeError",
     "evalue": "operand type(s) all returned NotImplemented from __array_ufunc__(<ufunc 'logical_and'>, '__call__', <Array [True, True, True, ... True, True, True] type='1509867 * bool'>, <Array [False, False, False, ... False, False] type='1509867 * bool'>, out=(<Array [False, False, False, ... False, False] type='1509867 * bool'>,)): 'Array', 'Array', 'Array'",
     "output_type": "error",
     "traceback": [
      "\u001b[0;31m---------------------------------------------------------------------------\u001b[0m",
      "\u001b[0;31mTypeError\u001b[0m                                 Traceback (most recent call last)",
      "\u001b[0;32m<ipython-input-108-a0ba4eba3df7>\u001b[0m in \u001b[0;36m<module>\u001b[0;34m\u001b[0m\n\u001b[0;32m----> 1\u001b[0;31m \u001b[0;34m[\u001b[0m\u001b[0mnp\u001b[0m\u001b[0;34m.\u001b[0m\u001b[0mlogical_and\u001b[0m\u001b[0;34m(\u001b[0m\u001b[0ma\u001b[0m\u001b[0;34m,\u001b[0m \u001b[0mb\u001b[0m\u001b[0;34m,\u001b[0m \u001b[0mc\u001b[0m\u001b[0;34m)\u001b[0m\u001b[0;34m]\u001b[0m\u001b[0;34m\u001b[0m\u001b[0;34m\u001b[0m\u001b[0m\n\u001b[0m",
      "\u001b[0;31mTypeError\u001b[0m: operand type(s) all returned NotImplemented from __array_ufunc__(<ufunc 'logical_and'>, '__call__', <Array [True, True, True, ... True, True, True] type='1509867 * bool'>, <Array [False, False, False, ... False, False] type='1509867 * bool'>, out=(<Array [False, False, False, ... False, False] type='1509867 * bool'>,)): 'Array', 'Array', 'Array'"
     ]
    }
   ],
   "source": [
    "[np.logical_and(a, b, c)] "
   ]
  },
  {
   "cell_type": "code",
   "execution_count": 109,
   "metadata": {},
   "outputs": [
    {
     "data": {
      "text/plain": [
       "<Array [True, True, True, ... True, True, True] type='1509867 * bool'>"
      ]
     },
     "execution_count": 109,
     "metadata": {},
     "output_type": "execute_result"
    }
   ],
   "source": [
    "a"
   ]
  },
  {
   "cell_type": "code",
   "execution_count": 110,
   "metadata": {},
   "outputs": [
    {
     "data": {
      "text/plain": [
       "<Array [False, False, False, ... False, False] type='1509867 * bool'>"
      ]
     },
     "execution_count": 110,
     "metadata": {},
     "output_type": "execute_result"
    }
   ],
   "source": [
    "b"
   ]
  },
  {
   "cell_type": "code",
   "execution_count": 111,
   "metadata": {},
   "outputs": [
    {
     "data": {
      "text/plain": [
       "<Array [False, False, False, ... False, False] type='1509867 * bool'>"
      ]
     },
     "execution_count": 111,
     "metadata": {},
     "output_type": "execute_result"
    }
   ],
   "source": [
    "c"
   ]
  },
  {
   "cell_type": "code",
   "execution_count": 86,
   "metadata": {},
   "outputs": [],
   "source": [
    "MET = ev.MET"
   ]
  },
  {
   "cell_type": "code",
   "execution_count": 87,
   "metadata": {},
   "outputs": [
    {
     "data": {
      "text/plain": [
       "<Array [False, False, True, ... False, False] type='1509867 * bool'>"
      ]
     },
     "execution_count": 87,
     "metadata": {},
     "output_type": "execute_result"
    }
   ],
   "source": [
    "MET.pt<20"
   ]
  },
  {
   "cell_type": "code",
   "execution_count": null,
   "metadata": {},
   "outputs": [],
   "source": [
    "def mt(pt1, phi1, pt2, phi2):\n",
    "    return np.sqrt( 2*pt1*pt2 * (1 - np.cos(phi1-phi2)) )\n"
   ]
  },
  {
   "cell_type": "code",
   "execution_count": 97,
   "metadata": {},
   "outputs": [
    {
     "data": {
      "application/vnd.jupyter.widget-view+json": {
       "model_id": "52e2139ad3e545bb9f6f11880af9ba96",
       "version_major": 2,
       "version_minor": 0
      },
      "text/plain": [
       "HBox(children=(HTML(value='Processing'), FloatProgress(value=0.0, max=2.0), HTML(value='')))"
      ]
     },
     "metadata": {},
     "output_type": "display_data"
    },
    {
     "name": "stdout",
     "output_type": "stream",
     "text": [
      "\n"
     ]
    },
    {
     "ename": "ValueError",
     "evalue": "the truth value of an array whose length is not 1 is ambiguous; use ak.any() or ak.all()\n\nFailed processing file: root://xcache//store/mc/RunIISummer16NanoAODv5/THQ_Hincl_13TeV-madgraph-pythia8_TuneCUETP8M1/NANOAODSIM/PUMoriond17_Nano1June2019_102X_mcRun2_asymptotic_v7-v1/100000/38E83594-51BD-7D46-B96D-620DD60078A7.root (0-307200)",
     "output_type": "error",
     "traceback": [
      "\u001b[0;31m---------------------------------------------------------------------------\u001b[0m",
      "\u001b[0;31m_RemoteTraceback\u001b[0m                          Traceback (most recent call last)",
      "\u001b[0;31m_RemoteTraceback\u001b[0m: \n\"\"\"\nTraceback (most recent call last):\n  File \"/opt/conda/lib/python3.8/concurrent/futures/process.py\", line 239, in _process_worker\n    r = call_item.fn(*call_item.args, **call_item.kwargs)\n  File \"/opt/conda/lib/python3.8/site-packages/coffea/processor/executor.py\", line 130, in __call__\n    out = self.function(*args, **kwargs)\n  File \"/opt/conda/lib/python3.8/site-packages/coffea/processor/executor.py\", line 950, in _work_function\n    raise e\n  File \"/opt/conda/lib/python3.8/site-packages/coffea/processor/executor.py\", line 903, in _work_function\n    raise type(e)(str(e) + file_trace).with_traceback(sys.exc_info()[2]) from None\n  File \"/opt/conda/lib/python3.8/site-packages/coffea/processor/executor.py\", line 900, in _work_function\n    out = processor_instance.process(events)\n  File \"<ipython-input-96-8d79a579af1f>\", line 91, in process\n    control_region_Muon = events[ak.num(Loose_Muon)==1 & ak.num(Loose_Electron)==0 ]#& (ak.num(Jet[~match(Jet, Muon, deltaRCut=1.0)])>=1)& MET.pt<20 ]#& mt(Muon.pt,Muon.phi, MET.pt, MET.phi)<20 ]\n  File \"/opt/conda/lib/python3.8/site-packages/awkward/highlevel.py\", line 1487, in __bool__\n    raise ValueError(\nValueError: the truth value of an array whose length is not 1 is ambiguous; use ak.any() or ak.all()\n\nFailed processing file: root://xcache//store/mc/RunIISummer16NanoAODv5/THQ_Hincl_13TeV-madgraph-pythia8_TuneCUETP8M1/NANOAODSIM/PUMoriond17_Nano1June2019_102X_mcRun2_asymptotic_v7-v1/100000/38E83594-51BD-7D46-B96D-620DD60078A7.root (0-307200)\n\"\"\"",
      "\nThe above exception was the direct cause of the following exception:\n",
      "\u001b[0;31mValueError\u001b[0m                                Traceback (most recent call last)",
      "\u001b[0;32m<ipython-input-97-2d0547a8a506>\u001b[0m in \u001b[0;36m<module>\u001b[0;34m\u001b[0m\n\u001b[1;32m      3\u001b[0m \u001b[0mfileset\u001b[0m \u001b[0;34m=\u001b[0m \u001b[0;34m{\u001b[0m\u001b[0;34m'SingleMu'\u001b[0m \u001b[0;34m:\u001b[0m \u001b[0;34m[\u001b[0m\u001b[0;34m'root://xcache//store/mc/RunIISummer16NanoAODv5/THQ_Hincl_13TeV-madgraph-pythia8_TuneCUETP8M1/NANOAODSIM/PUMoriond17_Nano1June2019_102X_mcRun2_asymptotic_v7-v1/100000/38E83594-51BD-7D46-B96D-620DD60078A7.root'\u001b[0m\u001b[0;34m]\u001b[0m\u001b[0;34m}\u001b[0m\u001b[0;34m\u001b[0m\u001b[0;34m\u001b[0m\u001b[0m\n\u001b[1;32m      4\u001b[0m \u001b[0;34m\u001b[0m\u001b[0m\n\u001b[0;32m----> 5\u001b[0;31m output = processor.run_uproot_job(fileset,\n\u001b[0m\u001b[1;32m      6\u001b[0m                                  \u001b[0mtreename\u001b[0m\u001b[0;34m=\u001b[0m\u001b[0;34m'Events'\u001b[0m\u001b[0;34m,\u001b[0m\u001b[0;34m\u001b[0m\u001b[0;34m\u001b[0m\u001b[0m\n\u001b[1;32m      7\u001b[0m                                  \u001b[0mprocessor_instance\u001b[0m\u001b[0;34m=\u001b[0m\u001b[0mProcessor\u001b[0m\u001b[0;34m(\u001b[0m\u001b[0;34m)\u001b[0m\u001b[0;34m,\u001b[0m\u001b[0;34m\u001b[0m\u001b[0;34m\u001b[0m\u001b[0m\n",
      "\u001b[0;32m/opt/conda/lib/python3.8/site-packages/coffea/processor/executor.py\u001b[0m in \u001b[0;36mrun_uproot_job\u001b[0;34m(fileset, treename, processor_instance, executor, executor_args, pre_executor, pre_args, chunksize, maxchunks, metadata_cache)\u001b[0m\n\u001b[1;32m   1216\u001b[0m     }\n\u001b[1;32m   1217\u001b[0m     \u001b[0mexe_args\u001b[0m\u001b[0;34m.\u001b[0m\u001b[0mupdate\u001b[0m\u001b[0;34m(\u001b[0m\u001b[0mexecutor_args\u001b[0m\u001b[0;34m)\u001b[0m\u001b[0;34m\u001b[0m\u001b[0;34m\u001b[0m\u001b[0m\n\u001b[0;32m-> 1218\u001b[0;31m     \u001b[0mexecutor\u001b[0m\u001b[0;34m(\u001b[0m\u001b[0mchunks\u001b[0m\u001b[0;34m,\u001b[0m \u001b[0mclosure\u001b[0m\u001b[0;34m,\u001b[0m \u001b[0mwrapped_out\u001b[0m\u001b[0;34m,\u001b[0m \u001b[0;34m**\u001b[0m\u001b[0mexe_args\u001b[0m\u001b[0;34m)\u001b[0m\u001b[0;34m\u001b[0m\u001b[0;34m\u001b[0m\u001b[0m\n\u001b[0m\u001b[1;32m   1219\u001b[0m \u001b[0;34m\u001b[0m\u001b[0m\n\u001b[1;32m   1220\u001b[0m     \u001b[0;32mif\u001b[0m \u001b[0;32mnot\u001b[0m \u001b[0muse_dataframes\u001b[0m\u001b[0;34m:\u001b[0m\u001b[0;34m\u001b[0m\u001b[0;34m\u001b[0m\u001b[0m\n",
      "\u001b[0;32m/opt/conda/lib/python3.8/site-packages/coffea/processor/executor.py\u001b[0m in \u001b[0;36mfutures_executor\u001b[0;34m(items, function, accumulator, **kwargs)\u001b[0m\n\u001b[1;32m    638\u001b[0m         \u001b[0;32mwith\u001b[0m \u001b[0mpool\u001b[0m\u001b[0;34m(\u001b[0m\u001b[0mmax_workers\u001b[0m\u001b[0;34m=\u001b[0m\u001b[0mworkers\u001b[0m\u001b[0;34m)\u001b[0m \u001b[0;32mas\u001b[0m \u001b[0mexecutor\u001b[0m\u001b[0;34m:\u001b[0m\u001b[0;34m\u001b[0m\u001b[0;34m\u001b[0m\u001b[0m\n\u001b[1;32m    639\u001b[0m             \u001b[0mfutures\u001b[0m \u001b[0;34m=\u001b[0m \u001b[0mset\u001b[0m\u001b[0;34m(\u001b[0m\u001b[0mexecutor\u001b[0m\u001b[0;34m.\u001b[0m\u001b[0msubmit\u001b[0m\u001b[0;34m(\u001b[0m\u001b[0mfunction\u001b[0m\u001b[0;34m,\u001b[0m \u001b[0mitem\u001b[0m\u001b[0;34m)\u001b[0m \u001b[0;32mfor\u001b[0m \u001b[0mitem\u001b[0m \u001b[0;32min\u001b[0m \u001b[0mitems\u001b[0m\u001b[0;34m)\u001b[0m\u001b[0;34m\u001b[0m\u001b[0;34m\u001b[0m\u001b[0m\n\u001b[0;32m--> 640\u001b[0;31m             \u001b[0m_futures_handler\u001b[0m\u001b[0;34m(\u001b[0m\u001b[0mfutures\u001b[0m\u001b[0;34m,\u001b[0m \u001b[0maccumulator\u001b[0m\u001b[0;34m,\u001b[0m \u001b[0mstatus\u001b[0m\u001b[0;34m,\u001b[0m \u001b[0munit\u001b[0m\u001b[0;34m,\u001b[0m \u001b[0mdesc\u001b[0m\u001b[0;34m,\u001b[0m \u001b[0madd_fn\u001b[0m\u001b[0;34m,\u001b[0m \u001b[0mtailtimeout\u001b[0m\u001b[0;34m)\u001b[0m\u001b[0;34m\u001b[0m\u001b[0;34m\u001b[0m\u001b[0m\n\u001b[0m\u001b[1;32m    641\u001b[0m     \u001b[0;32mreturn\u001b[0m \u001b[0maccumulator\u001b[0m\u001b[0;34m\u001b[0m\u001b[0;34m\u001b[0m\u001b[0m\n\u001b[1;32m    642\u001b[0m \u001b[0;34m\u001b[0m\u001b[0m\n",
      "\u001b[0;32m/opt/conda/lib/python3.8/site-packages/coffea/processor/executor.py\u001b[0m in \u001b[0;36m_futures_handler\u001b[0;34m(futures_set, output, status, unit, desc, add_fn, tailtimeout)\u001b[0m\n\u001b[1;32m    188\u001b[0m                 \u001b[0mfutures_set\u001b[0m\u001b[0;34m.\u001b[0m\u001b[0mdifference_update\u001b[0m\u001b[0;34m(\u001b[0m\u001b[0mfinished\u001b[0m\u001b[0;34m)\u001b[0m\u001b[0;34m\u001b[0m\u001b[0;34m\u001b[0m\u001b[0m\n\u001b[1;32m    189\u001b[0m                 \u001b[0;32mwhile\u001b[0m \u001b[0mfinished\u001b[0m\u001b[0;34m:\u001b[0m\u001b[0;34m\u001b[0m\u001b[0;34m\u001b[0m\u001b[0m\n\u001b[0;32m--> 190\u001b[0;31m                     \u001b[0madd_fn\u001b[0m\u001b[0;34m(\u001b[0m\u001b[0moutput\u001b[0m\u001b[0;34m,\u001b[0m \u001b[0mfinished\u001b[0m\u001b[0;34m.\u001b[0m\u001b[0mpop\u001b[0m\u001b[0;34m(\u001b[0m\u001b[0;34m)\u001b[0m\u001b[0;34m.\u001b[0m\u001b[0mresult\u001b[0m\u001b[0;34m(\u001b[0m\u001b[0;34m)\u001b[0m\u001b[0;34m)\u001b[0m\u001b[0;34m\u001b[0m\u001b[0;34m\u001b[0m\u001b[0m\n\u001b[0m\u001b[1;32m    191\u001b[0m                     \u001b[0mpbar\u001b[0m\u001b[0;34m.\u001b[0m\u001b[0mupdate\u001b[0m\u001b[0;34m(\u001b[0m\u001b[0;36m1\u001b[0m\u001b[0;34m)\u001b[0m\u001b[0;34m\u001b[0m\u001b[0;34m\u001b[0m\u001b[0m\n\u001b[1;32m    192\u001b[0m                     \u001b[0mlast_job\u001b[0m \u001b[0;34m=\u001b[0m \u001b[0mtime\u001b[0m\u001b[0;34m.\u001b[0m\u001b[0mtime\u001b[0m\u001b[0;34m(\u001b[0m\u001b[0;34m)\u001b[0m\u001b[0;34m\u001b[0m\u001b[0;34m\u001b[0m\u001b[0m\n",
      "\u001b[0;32m/opt/conda/lib/python3.8/concurrent/futures/_base.py\u001b[0m in \u001b[0;36mresult\u001b[0;34m(self, timeout)\u001b[0m\n\u001b[1;32m    430\u001b[0m                 \u001b[0;32mraise\u001b[0m \u001b[0mCancelledError\u001b[0m\u001b[0;34m(\u001b[0m\u001b[0;34m)\u001b[0m\u001b[0;34m\u001b[0m\u001b[0;34m\u001b[0m\u001b[0m\n\u001b[1;32m    431\u001b[0m             \u001b[0;32melif\u001b[0m \u001b[0mself\u001b[0m\u001b[0;34m.\u001b[0m\u001b[0m_state\u001b[0m \u001b[0;34m==\u001b[0m \u001b[0mFINISHED\u001b[0m\u001b[0;34m:\u001b[0m\u001b[0;34m\u001b[0m\u001b[0;34m\u001b[0m\u001b[0m\n\u001b[0;32m--> 432\u001b[0;31m                 \u001b[0;32mreturn\u001b[0m \u001b[0mself\u001b[0m\u001b[0;34m.\u001b[0m\u001b[0m__get_result\u001b[0m\u001b[0;34m(\u001b[0m\u001b[0;34m)\u001b[0m\u001b[0;34m\u001b[0m\u001b[0;34m\u001b[0m\u001b[0m\n\u001b[0m\u001b[1;32m    433\u001b[0m \u001b[0;34m\u001b[0m\u001b[0m\n\u001b[1;32m    434\u001b[0m             \u001b[0mself\u001b[0m\u001b[0;34m.\u001b[0m\u001b[0m_condition\u001b[0m\u001b[0;34m.\u001b[0m\u001b[0mwait\u001b[0m\u001b[0;34m(\u001b[0m\u001b[0mtimeout\u001b[0m\u001b[0;34m)\u001b[0m\u001b[0;34m\u001b[0m\u001b[0;34m\u001b[0m\u001b[0m\n",
      "\u001b[0;32m/opt/conda/lib/python3.8/concurrent/futures/_base.py\u001b[0m in \u001b[0;36m__get_result\u001b[0;34m(self)\u001b[0m\n\u001b[1;32m    386\u001b[0m     \u001b[0;32mdef\u001b[0m \u001b[0m__get_result\u001b[0m\u001b[0;34m(\u001b[0m\u001b[0mself\u001b[0m\u001b[0;34m)\u001b[0m\u001b[0;34m:\u001b[0m\u001b[0;34m\u001b[0m\u001b[0;34m\u001b[0m\u001b[0m\n\u001b[1;32m    387\u001b[0m         \u001b[0;32mif\u001b[0m \u001b[0mself\u001b[0m\u001b[0;34m.\u001b[0m\u001b[0m_exception\u001b[0m\u001b[0;34m:\u001b[0m\u001b[0;34m\u001b[0m\u001b[0;34m\u001b[0m\u001b[0m\n\u001b[0;32m--> 388\u001b[0;31m             \u001b[0;32mraise\u001b[0m \u001b[0mself\u001b[0m\u001b[0;34m.\u001b[0m\u001b[0m_exception\u001b[0m\u001b[0;34m\u001b[0m\u001b[0;34m\u001b[0m\u001b[0m\n\u001b[0m\u001b[1;32m    389\u001b[0m         \u001b[0;32melse\u001b[0m\u001b[0;34m:\u001b[0m\u001b[0;34m\u001b[0m\u001b[0;34m\u001b[0m\u001b[0m\n\u001b[1;32m    390\u001b[0m             \u001b[0;32mreturn\u001b[0m \u001b[0mself\u001b[0m\u001b[0;34m.\u001b[0m\u001b[0m_result\u001b[0m\u001b[0;34m\u001b[0m\u001b[0;34m\u001b[0m\u001b[0m\n",
      "\u001b[0;31mValueError\u001b[0m: the truth value of an array whose length is not 1 is ambiguous; use ak.any() or ak.all()\n\nFailed processing file: root://xcache//store/mc/RunIISummer16NanoAODv5/THQ_Hincl_13TeV-madgraph-pythia8_TuneCUETP8M1/NANOAODSIM/PUMoriond17_Nano1June2019_102X_mcRun2_asymptotic_v7-v1/100000/38E83594-51BD-7D46-B96D-620DD60078A7.root (0-307200)"
     ]
    }
   ],
   "source": [
    "#fileset = {'SingleMu' : [\"root://xcache//store/mc/RunIISummer16NanoAODv7/QCD_Pt-20to30_MuEnrichedPt5_TuneCUETP8M1_13TeV_pythia8/NANOAODSIM/PUMoriond17_Nano02Apr2020_102X_mcRun2_asymptotic_v8-v1/60000/30AED9F5-92AD-DD46-A547-61765FD6B596.root\"]}\n",
    "\n",
    "fileset = {'SingleMu' : ['root://xcache//store/mc/RunIISummer16NanoAODv5/THQ_Hincl_13TeV-madgraph-pythia8_TuneCUETP8M1/NANOAODSIM/PUMoriond17_Nano1June2019_102X_mcRun2_asymptotic_v7-v1/100000/38E83594-51BD-7D46-B96D-620DD60078A7.root']}\n",
    "\n",
    "output = processor.run_uproot_job(fileset,\n",
    "                                 treename='Events',\n",
    "                                 processor_instance=Processor(),\n",
    "                                 executor=processor.futures_executor,\n",
    "                                 executor_args={'workers':4,\"schema\": NanoAODSchema},\n",
    "                                 chunksize = 250000)\n"
   ]
  },
  {
   "cell_type": "code",
   "execution_count": 38,
   "metadata": {},
   "outputs": [],
   "source": [
    "a = output['Electron']"
   ]
  },
  {
   "cell_type": "code",
   "execution_count": 39,
   "metadata": {},
   "outputs": [
    {
     "data": {
      "text/plain": [
       "<AxesSubplot:xlabel='Electron [GeV]', ylabel='Counts'>"
      ]
     },
     "execution_count": 39,
     "metadata": {},
     "output_type": "execute_result"
    },
    {
     "data": {
      "image/png": "[encoded data removed]",
      "text/plain": [
       "<Figure size 432x288 with 1 Axes>"
      ]
     },
     "metadata": {
      "needs_background": "light"
     },
     "output_type": "display_data"
    }
   ],
   "source": [
    "hist.plot1d(a, overlay='dataset', fill_opts={'edgecolor': (0,0,0,0.3), 'alpha': 0.8})"
   ]
  },
  {
   "cell_type": "code",
   "execution_count": null,
   "metadata": {},
   "outputs": [],
   "source": []
  }
 ],
 "metadata": {
  "kernelspec": {
   "display_name": "Python 3",
   "language": "python",
   "name": "python3"
  },
  "language_info": {
   "codemirror_mode": {
    "name": "ipython",
    "version": 3
   },
   "file_extension": ".py",
   "mimetype": "text/x-python",
   "name": "python",
   "nbconvert_exporter": "python",
   "pygments_lexer": "ipython3",
   "version": "3.8.8"
  }
 },
 "nbformat": 4,
 "nbformat_minor": 4
}
