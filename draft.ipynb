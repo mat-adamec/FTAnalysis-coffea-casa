{
 "cells": [
  {
   "cell_type": "code",
   "execution_count": 1,
   "metadata": {},
   "outputs": [],
   "source": [
    "import numpy as np\n",
    "import uproot\n",
    "%matplotlib inline\n",
    "from coffea import hist\n",
    "#from coffea.analysis_objects import JaggedCandidateArray\n",
    "import coffea.processor as processor\n",
    "from coffea.nanoevents import NanoEventsFactory, NanoAODSchema\n",
    "import awkward as ak\n",
    "import numpy as np"
   ]
  },
  {
   "cell_type": "code",
   "execution_count": 2,
   "metadata": {},
   "outputs": [],
   "source": [
    "class Processor(processor.ProcessorABC):\n",
    "    def __init__(self):\n",
    "        dataset_axis = hist.Cat(\"dataset\", \"\")\n",
    "        # Split data into 50 bins, ranging from 0 to 100.\n",
    "        \n",
    "        Muon_axis = hist.Bin(\"Muon\", \"Muon [GeV]\", 50, 0, 100)\n",
    "        Electron_axis = hist.Bin(\"Electron\", \"Electron [GeV]\", 50, 0, 100)\n",
    "        Loose_muon_axis = hist.Bin(\"Electron\", \"Electron [GeV]\", 50, 0, 100)\n",
    "        Test_axis = hist.Bin(\"Test\", \"Test [GeV]\", 50, 0, 100)\n",
    "        \n",
    "        self._accumulator = processor.dict_accumulator({\n",
    "            'Muon': hist.Hist(\"Counts\", dataset_axis, Muon_axis),\n",
    "            'Electron': hist.Hist(\"Counts\", dataset_axis, Electron_axis),\n",
    "            'Test': hist.Hist(\"Counts\", dataset_axis, Test_axis)\n",
    "            #'nMuon': processor.defaultdict_accumulator(int)\n",
    "        })\n",
    "    \n",
    "    @property\n",
    "    def accumulator(self):\n",
    "        \n",
    "        return self._accumulator\n",
    "    \n",
    "    def process(self, events):\n",
    "        output = self.accumulator.identity()\n",
    "        \n",
    "        dataset = events.metadata[\"dataset\"]\n",
    "        \n",
    "        # Skim Muon, Electron, and Jet\n",
    "        Muon = events.Muon\n",
    "        Muon = Muon[( Muon.pt >10 ) &\n",
    "                           (np.abs(Muon.eta) < 2.4) &\n",
    "                           (np.abs(Muon.dxy) < 0.05) &\n",
    "                           (np.abs(Muon.dz) < 0.1) &\n",
    "                           (np.abs(Muon.sip3d) < 4) &\n",
    "                           (Muon.looseId==1) &\n",
    "                           (Muon.ptErr/Muon.pt < 0.2) &\n",
    "                           (Muon.mediumId==1) ]\n",
    "        \n",
    "        Electron = events.Electron\n",
    "        Electron = Electron[( Electron.pt >10 ) &  #  (Electron.isTriggerSafeNolso) \n",
    "                           (np.abs(Electron.eta+Electron.deltaEtaSC ) < 2.4) &\n",
    "                            (Electron.convVeto)&\n",
    "                            (Electron.lostHits==0) &\n",
    "                            (Electron.tightCharge==2) &\n",
    "                            (np.abs(Electron.dz) < 0.1) &\n",
    "                           (np.abs(Electron.dxy) < 0.05) &\n",
    "                           (np.abs(Electron.sip3d) < 4) ]\n",
    "        Jet = events.Jet\n",
    "        Jet = Jet[( Jet.pt >25 ) &  (np.abs(Jet.eta ) < 2.4) ]\n",
    "\n",
    "        \n",
    "        def delta_phi(first, second):\n",
    "            return np.arccos(np.cos(first.phi - second.phi))\n",
    "\n",
    "        def delta_r2(first, second):\n",
    "            return (first.eta - second.eta) ** 2 + delta_phi(first, second) ** 2\n",
    "\n",
    "        def match(first, second, deltaRCut=0.4):\n",
    "            drCut2 = deltaRCut**2\n",
    "            combs = ak.cartesian([first, second], nested=True)\n",
    "            return ak.any((delta_r2(combs['0'], combs['1'])<drCut2), axis=2)    \n",
    "        \n",
    "        def mt(pt1, phi1, pt2, phi2):    #transverse mass\n",
    "            return np.sqrt( 2*pt1*pt2 * (1 - np.cos(phi1-phi2)) )\n",
    "        \n",
    "        # Definition of Tight/Loose Muon and Electron\n",
    "        Tight_Muon = Muon[( Muon.pt >20 ) &\n",
    "                          (np.abs(Muon.eta) < 2.4) &\n",
    "                         (Muon.tightId==1) &\n",
    "                          (Muon.miniPFRelIso_all<0.16)\n",
    "                         ]\n",
    "        Tight_Electron = Electron[( Electron.pt >20 )&\n",
    "                          (np.abs(Electron.eta) < 2.4) &\n",
    "                       #  (Electron.tightId==1) &\n",
    "                          (Electron.miniPFRelIso_all<0.12)\n",
    "                         ]\n",
    "        \n",
    "        Loose_Muon = Muon[( Muon.pt >20 )&\n",
    "                          (np.abs(Muon.eta) < 2.4) &\n",
    "                         (Muon.looseId==1) &\n",
    "                          (Muon.miniPFRelIso_all<0.4)\n",
    "                         ]        \n",
    "        \n",
    "        Loose_Electron = Electron[( Electron.pt >20 )&\n",
    "                          (np.abs(Electron.eta) < 2.4) &\n",
    "                        # (Electron.looseId==1) &\n",
    "                          (Electron.miniPFRelIso_all<0.4)\n",
    "                         ]\n",
    "        MET = events.MET   \n",
    "        \n",
    "\n",
    "        control_region_Muon = ev[( ak.num(Loose_Muon)==1) &(ak.num(Loose_Electron)==0)\n",
    "                                    & (ak.num(Jet[~match(Jet, Muon, deltaRCut=1.0)])>=1) & ( MET.pt<20) \n",
    "                                    & ak.any(mt(Muon.pt,Muon.phi, MET.pt, MET.phi)<20, axis=1)]\n",
    "\n",
    "\n",
    "        tight_muon= control_region_Muon.Muon[(control_region_Muon.Muon.pt >20 ) &\n",
    "                          (np.abs(control_region_Muon.Muon.eta) < 2.4) &\n",
    "                         (control_region_Muon.Muon.tightId==1) &\n",
    "                          (control_region_Muon.Muon.miniPFRelIso_all<0.16)\n",
    "                         ]\n",
    "\n",
    "    \n",
    "        \n",
    "        \n",
    "        #Temporary Output fills \n",
    "        output['Muon'].fill(dataset=dataset, Muon=ak.flatten(Muon.pt))\n",
    "        output['Electron'].fill(dataset=dataset, Electron=ak.flatten(Electron.pt))\n",
    "        output['Test'].fill(dataset=dataset, Test=ak.flatten(control_region_Muon.Muon.pt))\n",
    "        #return output\n",
    "\n",
    "    def postprocess(self, accumulator):\n",
    "        return accumulator"
   ]
  },
  {
   "cell_type": "code",
   "execution_count": 180,
   "metadata": {},
   "outputs": [
    {
     "data": {
      "application/vnd.jupyter.widget-view+json": {
       "model_id": "17342d6a2f954ed9a90f51a9d2c03088",
       "version_major": 2,
       "version_minor": 0
      },
      "text/plain": [
       "HBox(children=(HTML(value='Processing'), FloatProgress(value=0.0, max=6.0), HTML(value='')))"
      ]
     },
     "metadata": {},
     "output_type": "display_data"
    },
    {
     "name": "stdout",
     "output_type": "stream",
     "text": [
      "<event 1:162370:211330333>\n",
      "<event 1:14930:414349995>\n",
      "\n",
      "<event 1:63893:1773215996>\n",
      "<event 1:139222:3863812480>\n",
      "<event 1:60833:1688304030>\n",
      "<event 1:101441:2815301419>\n"
     ]
    },
    {
     "ename": "ValueError",
     "evalue": "cannot use records as a slice\n\n(https://github.com/scikit-hep/awkward-1.0/blob/1.1.2/src/libawkward/array/RecordArray.cpp#L1399)\n\nFailed processing file: root://xcache//store/mc/RunIISummer16NanoAODv7/QCD_Pt-20to30_MuEnrichedPt5_TuneCUETP8M1_13TeV_pythia8/NANOAODSIM/PUMoriond17_Nano02Apr2020_102X_mcRun2_asymptotic_v8-v1/60000/30AED9F5-92AD-DD46-A547-61765FD6B596.root (754935-1006580)",
     "output_type": "error",
     "traceback": [
      "\u001b[0;31m---------------------------------------------------------------------------\u001b[0m",
      "\u001b[0;31m_RemoteTraceback\u001b[0m                          Traceback (most recent call last)",
      "\u001b[0;31m_RemoteTraceback\u001b[0m: \n\"\"\"\nTraceback (most recent call last):\n  File \"/opt/conda/lib/python3.8/concurrent/futures/process.py\", line 239, in _process_worker\n    r = call_item.fn(*call_item.args, **call_item.kwargs)\n  File \"/opt/conda/lib/python3.8/site-packages/coffea/processor/executor.py\", line 130, in __call__\n    out = self.function(*args, **kwargs)\n  File \"/opt/conda/lib/python3.8/site-packages/coffea/processor/executor.py\", line 950, in _work_function\n    raise e\n  File \"/opt/conda/lib/python3.8/site-packages/coffea/processor/executor.py\", line 903, in _work_function\n    raise type(e)(str(e) + file_trace).with_traceback(sys.exc_info()[2]) from None\n  File \"/opt/conda/lib/python3.8/site-packages/coffea/processor/executor.py\", line 900, in _work_function\n    out = processor_instance.process(events)\n  File \"<ipython-input-179-9ee44647faef>\", line 106, in process\n    loose_muon = control_region_Muon[Loose_Muon]\n  File \"/opt/conda/lib/python3.8/site-packages/awkward/highlevel.py\", line 1007, in __getitem__\n    return ak._util.wrap(self._layout[where], self._behavior)\nValueError: cannot use records as a slice\n\n(https://github.com/scikit-hep/awkward-1.0/blob/1.1.2/src/libawkward/array/RecordArray.cpp#L1399)\n\nFailed processing file: root://xcache//store/mc/RunIISummer16NanoAODv7/QCD_Pt-20to30_MuEnrichedPt5_TuneCUETP8M1_13TeV_pythia8/NANOAODSIM/PUMoriond17_Nano02Apr2020_102X_mcRun2_asymptotic_v8-v1/60000/30AED9F5-92AD-DD46-A547-61765FD6B596.root (754935-1006580)\n\"\"\"",
      "\nThe above exception was the direct cause of the following exception:\n",
      "\u001b[0;31mValueError\u001b[0m                                Traceback (most recent call last)",
      "\u001b[0;32m<ipython-input-180-c19fe25ed769>\u001b[0m in \u001b[0;36m<module>\u001b[0;34m\u001b[0m\n\u001b[1;32m      2\u001b[0m \u001b[0;34m\u001b[0m\u001b[0m\n\u001b[1;32m      3\u001b[0m \u001b[0mfileset\u001b[0m \u001b[0;34m=\u001b[0m \u001b[0;34m{\u001b[0m\u001b[0;34m'SingleMu'\u001b[0m \u001b[0;34m:\u001b[0m \u001b[0;34m[\u001b[0m\u001b[0;34m'root://xcache//store/mc/RunIISummer16NanoAODv7/QCD_Pt-20to30_MuEnrichedPt5_TuneCUETP8M1_13TeV_pythia8/NANOAODSIM/PUMoriond17_Nano02Apr2020_102X_mcRun2_asymptotic_v8-v1/60000/30AED9F5-92AD-DD46-A547-61765FD6B596.root'\u001b[0m\u001b[0;34m]\u001b[0m\u001b[0;34m}\u001b[0m\u001b[0;34m\u001b[0m\u001b[0;34m\u001b[0m\u001b[0m\n\u001b[0;32m----> 4\u001b[0;31m output = processor.run_uproot_job(fileset,\n\u001b[0m\u001b[1;32m      5\u001b[0m                                  \u001b[0mtreename\u001b[0m\u001b[0;34m=\u001b[0m\u001b[0;34m'Events'\u001b[0m\u001b[0;34m,\u001b[0m\u001b[0;34m\u001b[0m\u001b[0;34m\u001b[0m\u001b[0m\n\u001b[1;32m      6\u001b[0m                                  \u001b[0mprocessor_instance\u001b[0m\u001b[0;34m=\u001b[0m\u001b[0mProcessor\u001b[0m\u001b[0;34m(\u001b[0m\u001b[0;34m)\u001b[0m\u001b[0;34m,\u001b[0m\u001b[0;34m\u001b[0m\u001b[0;34m\u001b[0m\u001b[0m\n",
      "\u001b[0;32m/opt/conda/lib/python3.8/site-packages/coffea/processor/executor.py\u001b[0m in \u001b[0;36mrun_uproot_job\u001b[0;34m(fileset, treename, processor_instance, executor, executor_args, pre_executor, pre_args, chunksize, maxchunks, metadata_cache)\u001b[0m\n\u001b[1;32m   1216\u001b[0m     }\n\u001b[1;32m   1217\u001b[0m     \u001b[0mexe_args\u001b[0m\u001b[0;34m.\u001b[0m\u001b[0mupdate\u001b[0m\u001b[0;34m(\u001b[0m\u001b[0mexecutor_args\u001b[0m\u001b[0;34m)\u001b[0m\u001b[0;34m\u001b[0m\u001b[0;34m\u001b[0m\u001b[0m\n\u001b[0;32m-> 1218\u001b[0;31m     \u001b[0mexecutor\u001b[0m\u001b[0;34m(\u001b[0m\u001b[0mchunks\u001b[0m\u001b[0;34m,\u001b[0m \u001b[0mclosure\u001b[0m\u001b[0;34m,\u001b[0m \u001b[0mwrapped_out\u001b[0m\u001b[0;34m,\u001b[0m \u001b[0;34m**\u001b[0m\u001b[0mexe_args\u001b[0m\u001b[0;34m)\u001b[0m\u001b[0;34m\u001b[0m\u001b[0;34m\u001b[0m\u001b[0m\n\u001b[0m\u001b[1;32m   1219\u001b[0m \u001b[0;34m\u001b[0m\u001b[0m\n\u001b[1;32m   1220\u001b[0m     \u001b[0;32mif\u001b[0m \u001b[0;32mnot\u001b[0m \u001b[0muse_dataframes\u001b[0m\u001b[0;34m:\u001b[0m\u001b[0;34m\u001b[0m\u001b[0;34m\u001b[0m\u001b[0m\n",
      "\u001b[0;32m/opt/conda/lib/python3.8/site-packages/coffea/processor/executor.py\u001b[0m in \u001b[0;36mfutures_executor\u001b[0;34m(items, function, accumulator, **kwargs)\u001b[0m\n\u001b[1;32m    638\u001b[0m         \u001b[0;32mwith\u001b[0m \u001b[0mpool\u001b[0m\u001b[0;34m(\u001b[0m\u001b[0mmax_workers\u001b[0m\u001b[0;34m=\u001b[0m\u001b[0mworkers\u001b[0m\u001b[0;34m)\u001b[0m \u001b[0;32mas\u001b[0m \u001b[0mexecutor\u001b[0m\u001b[0;34m:\u001b[0m\u001b[0;34m\u001b[0m\u001b[0;34m\u001b[0m\u001b[0m\n\u001b[1;32m    639\u001b[0m             \u001b[0mfutures\u001b[0m \u001b[0;34m=\u001b[0m \u001b[0mset\u001b[0m\u001b[0;34m(\u001b[0m\u001b[0mexecutor\u001b[0m\u001b[0;34m.\u001b[0m\u001b[0msubmit\u001b[0m\u001b[0;34m(\u001b[0m\u001b[0mfunction\u001b[0m\u001b[0;34m,\u001b[0m \u001b[0mitem\u001b[0m\u001b[0;34m)\u001b[0m \u001b[0;32mfor\u001b[0m \u001b[0mitem\u001b[0m \u001b[0;32min\u001b[0m \u001b[0mitems\u001b[0m\u001b[0;34m)\u001b[0m\u001b[0;34m\u001b[0m\u001b[0;34m\u001b[0m\u001b[0m\n\u001b[0;32m--> 640\u001b[0;31m             \u001b[0m_futures_handler\u001b[0m\u001b[0;34m(\u001b[0m\u001b[0mfutures\u001b[0m\u001b[0;34m,\u001b[0m \u001b[0maccumulator\u001b[0m\u001b[0;34m,\u001b[0m \u001b[0mstatus\u001b[0m\u001b[0;34m,\u001b[0m \u001b[0munit\u001b[0m\u001b[0;34m,\u001b[0m \u001b[0mdesc\u001b[0m\u001b[0;34m,\u001b[0m \u001b[0madd_fn\u001b[0m\u001b[0;34m,\u001b[0m \u001b[0mtailtimeout\u001b[0m\u001b[0;34m)\u001b[0m\u001b[0;34m\u001b[0m\u001b[0;34m\u001b[0m\u001b[0m\n\u001b[0m\u001b[1;32m    641\u001b[0m     \u001b[0;32mreturn\u001b[0m \u001b[0maccumulator\u001b[0m\u001b[0;34m\u001b[0m\u001b[0;34m\u001b[0m\u001b[0m\n\u001b[1;32m    642\u001b[0m \u001b[0;34m\u001b[0m\u001b[0m\n",
      "\u001b[0;32m/opt/conda/lib/python3.8/site-packages/coffea/processor/executor.py\u001b[0m in \u001b[0;36m_futures_handler\u001b[0;34m(futures_set, output, status, unit, desc, add_fn, tailtimeout)\u001b[0m\n\u001b[1;32m    188\u001b[0m                 \u001b[0mfutures_set\u001b[0m\u001b[0;34m.\u001b[0m\u001b[0mdifference_update\u001b[0m\u001b[0;34m(\u001b[0m\u001b[0mfinished\u001b[0m\u001b[0;34m)\u001b[0m\u001b[0;34m\u001b[0m\u001b[0;34m\u001b[0m\u001b[0m\n\u001b[1;32m    189\u001b[0m                 \u001b[0;32mwhile\u001b[0m \u001b[0mfinished\u001b[0m\u001b[0;34m:\u001b[0m\u001b[0;34m\u001b[0m\u001b[0;34m\u001b[0m\u001b[0m\n\u001b[0;32m--> 190\u001b[0;31m                     \u001b[0madd_fn\u001b[0m\u001b[0;34m(\u001b[0m\u001b[0moutput\u001b[0m\u001b[0;34m,\u001b[0m \u001b[0mfinished\u001b[0m\u001b[0;34m.\u001b[0m\u001b[0mpop\u001b[0m\u001b[0;34m(\u001b[0m\u001b[0;34m)\u001b[0m\u001b[0;34m.\u001b[0m\u001b[0mresult\u001b[0m\u001b[0;34m(\u001b[0m\u001b[0;34m)\u001b[0m\u001b[0;34m)\u001b[0m\u001b[0;34m\u001b[0m\u001b[0;34m\u001b[0m\u001b[0m\n\u001b[0m\u001b[1;32m    191\u001b[0m                     \u001b[0mpbar\u001b[0m\u001b[0;34m.\u001b[0m\u001b[0mupdate\u001b[0m\u001b[0;34m(\u001b[0m\u001b[0;36m1\u001b[0m\u001b[0;34m)\u001b[0m\u001b[0;34m\u001b[0m\u001b[0;34m\u001b[0m\u001b[0m\n\u001b[1;32m    192\u001b[0m                     \u001b[0mlast_job\u001b[0m \u001b[0;34m=\u001b[0m \u001b[0mtime\u001b[0m\u001b[0;34m.\u001b[0m\u001b[0mtime\u001b[0m\u001b[0;34m(\u001b[0m\u001b[0;34m)\u001b[0m\u001b[0;34m\u001b[0m\u001b[0;34m\u001b[0m\u001b[0m\n",
      "\u001b[0;32m/opt/conda/lib/python3.8/concurrent/futures/_base.py\u001b[0m in \u001b[0;36mresult\u001b[0;34m(self, timeout)\u001b[0m\n\u001b[1;32m    430\u001b[0m                 \u001b[0;32mraise\u001b[0m \u001b[0mCancelledError\u001b[0m\u001b[0;34m(\u001b[0m\u001b[0;34m)\u001b[0m\u001b[0;34m\u001b[0m\u001b[0;34m\u001b[0m\u001b[0m\n\u001b[1;32m    431\u001b[0m             \u001b[0;32melif\u001b[0m \u001b[0mself\u001b[0m\u001b[0;34m.\u001b[0m\u001b[0m_state\u001b[0m \u001b[0;34m==\u001b[0m \u001b[0mFINISHED\u001b[0m\u001b[0;34m:\u001b[0m\u001b[0;34m\u001b[0m\u001b[0;34m\u001b[0m\u001b[0m\n\u001b[0;32m--> 432\u001b[0;31m                 \u001b[0;32mreturn\u001b[0m \u001b[0mself\u001b[0m\u001b[0;34m.\u001b[0m\u001b[0m__get_result\u001b[0m\u001b[0;34m(\u001b[0m\u001b[0;34m)\u001b[0m\u001b[0;34m\u001b[0m\u001b[0;34m\u001b[0m\u001b[0m\n\u001b[0m\u001b[1;32m    433\u001b[0m \u001b[0;34m\u001b[0m\u001b[0m\n\u001b[1;32m    434\u001b[0m             \u001b[0mself\u001b[0m\u001b[0;34m.\u001b[0m\u001b[0m_condition\u001b[0m\u001b[0;34m.\u001b[0m\u001b[0mwait\u001b[0m\u001b[0;34m(\u001b[0m\u001b[0mtimeout\u001b[0m\u001b[0;34m)\u001b[0m\u001b[0;34m\u001b[0m\u001b[0;34m\u001b[0m\u001b[0m\n",
      "\u001b[0;32m/opt/conda/lib/python3.8/concurrent/futures/_base.py\u001b[0m in \u001b[0;36m__get_result\u001b[0;34m(self)\u001b[0m\n\u001b[1;32m    386\u001b[0m     \u001b[0;32mdef\u001b[0m \u001b[0m__get_result\u001b[0m\u001b[0;34m(\u001b[0m\u001b[0mself\u001b[0m\u001b[0;34m)\u001b[0m\u001b[0;34m:\u001b[0m\u001b[0;34m\u001b[0m\u001b[0;34m\u001b[0m\u001b[0m\n\u001b[1;32m    387\u001b[0m         \u001b[0;32mif\u001b[0m \u001b[0mself\u001b[0m\u001b[0;34m.\u001b[0m\u001b[0m_exception\u001b[0m\u001b[0;34m:\u001b[0m\u001b[0;34m\u001b[0m\u001b[0;34m\u001b[0m\u001b[0m\n\u001b[0;32m--> 388\u001b[0;31m             \u001b[0;32mraise\u001b[0m \u001b[0mself\u001b[0m\u001b[0;34m.\u001b[0m\u001b[0m_exception\u001b[0m\u001b[0;34m\u001b[0m\u001b[0;34m\u001b[0m\u001b[0m\n\u001b[0m\u001b[1;32m    389\u001b[0m         \u001b[0;32melse\u001b[0m\u001b[0;34m:\u001b[0m\u001b[0;34m\u001b[0m\u001b[0;34m\u001b[0m\u001b[0m\n\u001b[1;32m    390\u001b[0m             \u001b[0;32mreturn\u001b[0m \u001b[0mself\u001b[0m\u001b[0;34m.\u001b[0m\u001b[0m_result\u001b[0m\u001b[0;34m\u001b[0m\u001b[0;34m\u001b[0m\u001b[0m\n",
      "\u001b[0;31mValueError\u001b[0m: cannot use records as a slice\n\n(https://github.com/scikit-hep/awkward-1.0/blob/1.1.2/src/libawkward/array/RecordArray.cpp#L1399)\n\nFailed processing file: root://xcache//store/mc/RunIISummer16NanoAODv7/QCD_Pt-20to30_MuEnrichedPt5_TuneCUETP8M1_13TeV_pythia8/NANOAODSIM/PUMoriond17_Nano02Apr2020_102X_mcRun2_asymptotic_v8-v1/60000/30AED9F5-92AD-DD46-A547-61765FD6B596.root (754935-1006580)"
     ]
    }
   ],
   "source": [
    "#fileset = {'SingleMu' : [\"root://xcache//store/mc/RunIISummer16NanoAODv7/QCD_Pt-20to30_MuEnrichedPt5_TuneCUETP8M1_13TeV_pythia8/NANOAODSIM/PUMoriond17_Nano02Apr2020_102X_mcRun2_asymptotic_v8-v1/60000/30AED9F5-92AD-DD46-A547-61765FD6B596.root\"]}\n",
    "\n",
    "fileset = {'SingleMu' : ['root://xcache//store/mc/RunIISummer16NanoAODv7/QCD_Pt-20to30_MuEnrichedPt5_TuneCUETP8M1_13TeV_pythia8/NANOAODSIM/PUMoriond17_Nano02Apr2020_102X_mcRun2_asymptotic_v8-v1/60000/30AED9F5-92AD-DD46-A547-61765FD6B596.root']}\n",
    "output = processor.run_uproot_job(fileset,\n",
    "                                 treename='Events',\n",
    "                                 processor_instance=Processor(),\n",
    "                                 executor=processor.futures_executor,\n",
    "                                 executor_args={'workers':4,\"schema\": NanoAODSchema},\n",
    "                                 chunksize = 250000)\n"
   ]
  },
  {
   "cell_type": "markdown",
   "metadata": {},
   "source": [
    "### Debugging"
   ]
  },
  {
   "cell_type": "code",
   "execution_count": 3,
   "metadata": {},
   "outputs": [],
   "source": [
    "s = \"root://xcache//store/mc/RunIISummer16NanoAODv7/QCD_Pt-20to30_MuEnrichedPt5_TuneCUETP8M1_13TeV_pythia8/NANOAODSIM/PUMoriond17_Nano02Apr2020_102X_mcRun2_asymptotic_v8-v1/60000/30AED9F5-92AD-DD46-A547-61765FD6B596.root\""
   ]
  },
  {
   "cell_type": "code",
   "execution_count": 4,
   "metadata": {},
   "outputs": [],
   "source": [
    "ev = NanoEventsFactory.from_root(s, schemaclass=NanoAODSchema).events()"
   ]
  },
  {
   "cell_type": "code",
   "execution_count": 5,
   "metadata": {},
   "outputs": [],
   "source": [
    "# Running what's in the processor here for easier manipulation\n",
    "Muon = ev.Muon\n",
    "Muon = Muon[( Muon.pt >10 ) &\n",
    "                           (np.abs(Muon.eta) < 2.4) &\n",
    "                           (np.abs(Muon.dxy) < 0.05) &\n",
    "                           (np.abs(Muon.dz) < 0.1) &\n",
    "                           (np.abs(Muon.sip3d) < 4) &\n",
    "                           (Muon.looseId==1) &\n",
    "                           (Muon.ptErr/Muon.pt < 0.2) &\n",
    "                           (Muon.mediumId==1) ]\n",
    "        \n",
    "Electron = ev.Electron\n",
    "Electron = Electron[( Electron.pt >10 ) &  #  (Electron.isTriggerSafeNolso) \n",
    "                           (np.abs(Electron.eta+Electron.deltaEtaSC ) < 2.4) &\n",
    "                            (Electron.convVeto)&\n",
    "                            (Electron.lostHits==0) &\n",
    "                            (Electron.tightCharge==2) &\n",
    "                            (np.abs(Electron.dz) < 0.1) &\n",
    "                           (np.abs(Electron.dxy) < 0.05) &\n",
    "                           (np.abs(Electron.sip3d) < 4) ]\n",
    "Jet = ev.Jet\n",
    "Jet = Jet[( Jet.pt >25 ) &  (np.abs(Jet.eta ) < 2.4) ]\n",
    "\n",
    "def delta_phi(first, second):\n",
    "            return np.arccos(np.cos(first.phi - second.phi))\n",
    "\n",
    "def delta_r2(first, second):\n",
    "            return (first.eta - second.eta) ** 2 + delta_phi(first, second) ** 2\n",
    "\n",
    "def match(first, second, deltaRCut=0.4):\n",
    "            drCut2 = deltaRCut**2\n",
    "            combs = ak.cartesian([first, second], nested=True)\n",
    "            return ak.any((delta_r2(combs['0'], combs['1'])<drCut2), axis=2)    \n",
    "        \n",
    "def mt(pt1, phi1, pt2, phi2):    #transverse mass\n",
    "            return np.sqrt( 2*pt1*pt2 * (1 - np.cos(phi1-phi2)) )\n",
    "        \n",
    "# Definition of Tight/Loose Muon and Electron\n",
    "Tight_Muon = Muon[( Muon.pt >20 ) &\n",
    "                          (np.abs(Muon.eta) < 2.4) &\n",
    "                         (Muon.tightId==1) &\n",
    "                          (Muon.miniPFRelIso_all<0.16)\n",
    "                         ]\n",
    "Tight_Electron = Electron[( Electron.pt >20 )&\n",
    "                          (np.abs(Electron.eta) < 2.4) &\n",
    "                       #  (Electron.tightId==1) &\n",
    "                          (Electron.miniPFRelIso_all<0.12)\n",
    "                         ]\n",
    "        \n",
    "Loose_Muon = Muon[( Muon.pt >20 )&\n",
    "                          (np.abs(Muon.eta) < 2.4) &\n",
    "                         (Muon.looseId==1) &\n",
    "                          (Muon.miniPFRelIso_all<0.4)\n",
    "                         ]        \n",
    "        \n",
    "Loose_Electron = Electron[( Electron.pt >20 )&\n",
    "                          (np.abs(Electron.eta) < 2.4) &\n",
    "                        # (Electron.looseId==1) &\n",
    "                          (Electron.miniPFRelIso_all<0.4)\n",
    "                         ]\n",
    "MET = ev.MET   \n",
    "        \n",
    "\n",
    "control_region_Muon = ev[( ak.num(Loose_Muon)==1) &(ak.num(Loose_Electron)==0)\n",
    "                                    & (ak.num(Jet[~match(Jet, Muon, deltaRCut=1.0)])>=1) & ( MET.pt<20) \n",
    "                                    & ak.any(mt(Muon.pt,Muon.phi, MET.pt, MET.phi)<20, axis=1)]\n",
    "\n",
    "\n",
    "tight_muon= control_region_Muon.Muon[(control_region_Muon.Muon.pt >20 ) &\n",
    "                          (np.abs(control_region_Muon.Muon.eta) < 2.4) &\n",
    "                         (control_region_Muon.Muon.tightId==1) &\n",
    "                          (control_region_Muon.Muon.miniPFRelIso_all<0.16)\n",
    "                         ]"
   ]
  },
  {
   "cell_type": "markdown",
   "metadata": {},
   "source": [
    "### Plotting\n",
    "https://github.com/cmstas/FTAnalysis/blob/run2/analysis/fakes/derivation/ScanChain_fast.C#L161"
   ]
  },
  {
   "cell_type": "code",
   "execution_count": 72,
   "metadata": {},
   "outputs": [],
   "source": [
    "import matplotlib.pyplot as plt"
   ]
  },
  {
   "cell_type": "code",
   "execution_count": 10,
   "metadata": {},
   "outputs": [],
   "source": [
    "nptbins = 7\n",
    "ptbins = [10., 15., 20., 25., 35., 50., 70., 90.]\n",
    "netabins = 3\n",
    "etabins_mu = [0., 1.2, 2.1, 2.4]\n",
    "etabins_el = [0., 0.8, 1.479, 2.5]"
   ]
  },
  {
   "cell_type": "code",
   "execution_count": 78,
   "metadata": {},
   "outputs": [],
   "source": [
    "percentage_muon = np.zeros((netabins,nptbins))\n",
    "\n",
    "for i in range(netabins):\n",
    "    for j in range(nptbins):\n",
    "        total = sum(ak.num(control_region_Muon.Muon[(control_region_Muon.Muon.pt>=ptbins[j]) & (control_region_Muon.Muon.pt<ptbins[j+1])&(control_region_Muon.Muon.eta<etabins_mu[i+1])&(control_region_Muon.Muon.eta>=etabins_mu[i])]))\n",
    "        tight = sum(ak.num(tight_muon[(tight_muon.pt>=ptbins[j]) & (tight_muon.pt<ptbins[j+1])&(tight_muon.eta<etabins_mu[i+1])&(tight_muon.eta>=etabins_mu[i])]))\n",
    "        if total!=0:\n",
    "            percentage_muon[i,j] = tight/total"
   ]
  },
  {
   "cell_type": "code",
   "execution_count": 79,
   "metadata": {},
   "outputs": [
    {
     "data": {
      "text/plain": [
       "array([[0.        , 0.        , 0.5       , 0.66666667, 0.        ,\n",
       "        0.        , 0.        ],\n",
       "       [0.        , 0.        , 0.63636364, 1.        , 0.        ,\n",
       "        0.        , 0.        ],\n",
       "       [0.        , 0.        , 0.75      , 0.        , 0.        ,\n",
       "        0.        , 0.        ]])"
      ]
     },
     "execution_count": 79,
     "metadata": {},
     "output_type": "execute_result"
    }
   ],
   "source": [
    "percentage_muon"
   ]
  },
  {
   "cell_type": "markdown",
   "metadata": {},
   "source": [
    "#### Need control region for electron"
   ]
  },
  {
   "cell_type": "code",
   "execution_count": null,
   "metadata": {},
   "outputs": [],
   "source": [
    "percentage2 = np.zeros((netabins,nptbins))\n",
    "\n",
    "for i in range(netabins):\n",
    "    for j in range(nptbins):\n",
    "        total = sum(ak.num(control_region_Muon.Muon[(control_region_Muon.Muon.pt>=ptbins[j]) & (control_region_Muon.Muon.pt<ptbins[j+1])&(control_region_Muon.Muon.eta<etabins_mu[i+1])&(control_region_Muon.Muon.eta>=etabins_mu[i])]))\n",
    "        tight = sum(ak.num(tight_muon[(tight_muon.pt>=ptbins[j]) & (tight_muon.pt<ptbins[j+1])&(tight_muon.eta<etabins_mu[i+1])&(tight_muon.eta>=etabins_mu[i])]))\n",
    "        if total!=0:\n",
    "            percentage1[i,j] = tight/total"
   ]
  },
  {
   "cell_type": "code",
   "execution_count": null,
   "metadata": {},
   "outputs": [],
   "source": [
    "percentage2"
   ]
  },
  {
   "cell_type": "code",
   "execution_count": 151,
   "metadata": {},
   "outputs": [
    {
     "name": "stdout",
     "output_type": "stream",
     "text": [
      "1.2\n",
      "1.2\n",
      "1.2\n",
      "1.2\n",
      "1.2\n",
      "1.2\n",
      "1.2\n",
      "2.1\n",
      "2.1\n",
      "2.1\n",
      "2.1\n",
      "2.1\n",
      "2.1\n",
      "2.1\n",
      "2.4\n",
      "2.4\n",
      "2.4\n",
      "2.4\n",
      "2.4\n",
      "2.4\n",
      "2.4\n",
      "1.2\n",
      "1.2\n",
      "1.2\n",
      "1.2\n",
      "1.2\n",
      "1.2\n",
      "1.2\n",
      "2.1\n",
      "2.1\n",
      "2.1\n",
      "2.1\n",
      "2.1\n",
      "2.1\n",
      "2.1\n",
      "2.4\n",
      "2.4\n",
      "2.4\n",
      "2.4\n",
      "2.4\n",
      "2.4\n",
      "2.4\n"
     ]
    },
    {
     "data": {
      "image/png": "[encoded data removed]",
      "text/plain": [
       "<Figure size 432x360 with 2 Axes>"
      ]
     },
     "metadata": {
      "needs_background": "light"
     },
     "output_type": "display_data"
    }
   ],
   "source": [
    "fig, ax = plt.subplots(figsize=(6, 5))  # need some extra room for the colorbar\n",
    "\n",
    "xmesh1, ymesh1= np.meshgrid(ptbins, etabins_mu)\n",
    "xmesh, ymesh= np.meshgrid(xedges, yedges)\n",
    "# pcolormesh assumes the array is (y,x) ordered!\n",
    "#pc = ax.pcolormesh(xmesh, ymesh, pdf_xy.T)\n",
    "pc = ax.pcolormesh(percentage_muon.T)\n",
    "fig.colorbar(pc, ax=ax, label='Counts')\n",
    "\n",
    "# text annotation appears to be a manual operation\n",
    "# c.f. https://matplotlib.org/gallery/images_contours_and_fields/image_annotated_heatmap.html\n",
    "#for ix, xc in enumerate(np.array(etabins_mu[:-1] + etabins_mu[1:])/2):\n",
    "for ix, xc in enumerate(etabins_mu[1:]):\n",
    "    for iy, yc in enumerate(ptbins[1:]):\n",
    "        #color = 'black' if pc.norm(pdf_xy[ix, iy]) > 0.5 else 'lightgrey'\n",
    "        print(xc)\n",
    "        ax.text(xc, yc, percentage_muon[ix, iy], ha='center', va='center', color=color)\n",
    "        \n",
    "for ix, xc in enumerate(etabins_mu[1:]):\n",
    "    for iy, yc in enumerate(ptbins[1:]):\n",
    "        #color = 'black' if pc.norm(pdf_xy[ix, iy]) > 0.5 else 'lightgrey'\n",
    "        print(xc)\n",
    "        ax.text(xc, yc, percentage_muon[ix, iy], ha='center', va='center', color=color)"
   ]
  },
  {
   "cell_type": "code",
   "execution_count": 149,
   "metadata": {},
   "outputs": [
    {
     "data": {
      "text/plain": [
       "array([[0.        , 0.        , 0.5       , 0.66666667, 0.        ,\n",
       "        0.        , 0.        ],\n",
       "       [0.        , 0.        , 0.63636364, 1.        , 0.        ,\n",
       "        0.        , 0.        ],\n",
       "       [0.        , 0.        , 0.75      , 0.        , 0.        ,\n",
       "        0.        , 0.        ]])"
      ]
     },
     "execution_count": 149,
     "metadata": {},
     "output_type": "execute_result"
    }
   ],
   "source": [
    "percentage_muon"
   ]
  },
  {
   "cell_type": "code",
   "execution_count": 121,
   "metadata": {},
   "outputs": [
    {
     "name": "stdout",
     "output_type": "stream",
     "text": [
      "0\n",
      "1\n",
      "2\n",
      "3\n",
      "4\n",
      "5\n",
      "6\n",
      "7\n"
     ]
    }
   ],
   "source": [
    "for iy, yc in enumerate(ptbins):\n",
    "    print(iy)"
   ]
  }
 ],
 "metadata": {
  "kernelspec": {
   "display_name": "Python 3",
   "language": "python",
   "name": "python3"
  },
  "language_info": {
   "codemirror_mode": {
    "name": "ipython",
    "version": 3
   },
   "file_extension": ".py",
   "mimetype": "text/x-python",
   "name": "python",
   "nbconvert_exporter": "python",
   "pygments_lexer": "ipython3",
   "version": "3.8.8"
  }
 },
 "nbformat": 4,
 "nbformat_minor": 4
}
